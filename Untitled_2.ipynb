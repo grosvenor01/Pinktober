{
  "cells": [
    {
      "cell_type": "code",
      "execution_count": null,
      "metadata": {
        "id": "gMHB76iHowmo"
      },
      "outputs": [],
      "source": [
        "import tensorflow as tf\n",
        "import os,glob\n",
        "import cv2\n",
        "import numpy as np\n",
        "from tensorflow.keras.preprocessing.image import ImageDataGenerator\n",
        "from tensorflow import keras\n",
        "from keras.models import Sequential\n",
        "from tensorflow.keras import layers\n",
        "from keras.regularizers import l2\n",
        "from tensorflow.keras.preprocessing import image\n",
        "import numpy as np\n",
        "import matplotlib.pyplot as plt\n",
        "import PIL\n",
        "from PIL import Image\n",
        "from tensorflow.keras.applications.inception_v3 import InceptionV3, preprocess_input"
      ]
    },
    {
      "cell_type": "code",
      "execution_count": null,
      "metadata": {
        "colab": {
          "base_uri": "https://localhost:8080/",
          "height": 321
        },
        "id": "2DuVF95no_0S",
        "outputId": "7e005d45-f972-47c9-e5e0-749f32ea6a4a"
      },
      "outputs": [
        {
          "output_type": "error",
          "ename": "MessageError",
          "evalue": "Error: credential propagation was unsuccessful",
          "traceback": [
            "\u001b[0;31m---------------------------------------------------------------------------\u001b[0m",
            "\u001b[0;31mMessageError\u001b[0m                              Traceback (most recent call last)",
            "\u001b[0;32m<ipython-input-2-d5df0069828e>\u001b[0m in \u001b[0;36m<cell line: 2>\u001b[0;34m()\u001b[0m\n\u001b[1;32m      1\u001b[0m \u001b[0;32mfrom\u001b[0m \u001b[0mgoogle\u001b[0m\u001b[0;34m.\u001b[0m\u001b[0mcolab\u001b[0m \u001b[0;32mimport\u001b[0m \u001b[0mdrive\u001b[0m\u001b[0;34m\u001b[0m\u001b[0;34m\u001b[0m\u001b[0m\n\u001b[0;32m----> 2\u001b[0;31m \u001b[0mdrive\u001b[0m\u001b[0;34m.\u001b[0m\u001b[0mmount\u001b[0m\u001b[0;34m(\u001b[0m\u001b[0;34m'/content/drive'\u001b[0m\u001b[0;34m)\u001b[0m\u001b[0;34m\u001b[0m\u001b[0;34m\u001b[0m\u001b[0m\n\u001b[0m",
            "\u001b[0;32m/usr/local/lib/python3.10/dist-packages/google/colab/drive.py\u001b[0m in \u001b[0;36mmount\u001b[0;34m(mountpoint, force_remount, timeout_ms, readonly)\u001b[0m\n\u001b[1;32m     98\u001b[0m \u001b[0;32mdef\u001b[0m \u001b[0mmount\u001b[0m\u001b[0;34m(\u001b[0m\u001b[0mmountpoint\u001b[0m\u001b[0;34m,\u001b[0m \u001b[0mforce_remount\u001b[0m\u001b[0;34m=\u001b[0m\u001b[0;32mFalse\u001b[0m\u001b[0;34m,\u001b[0m \u001b[0mtimeout_ms\u001b[0m\u001b[0;34m=\u001b[0m\u001b[0;36m120000\u001b[0m\u001b[0;34m,\u001b[0m \u001b[0mreadonly\u001b[0m\u001b[0;34m=\u001b[0m\u001b[0;32mFalse\u001b[0m\u001b[0;34m)\u001b[0m\u001b[0;34m:\u001b[0m\u001b[0;34m\u001b[0m\u001b[0;34m\u001b[0m\u001b[0m\n\u001b[1;32m     99\u001b[0m   \u001b[0;34m\"\"\"Mount your Google Drive at the specified mountpoint path.\"\"\"\u001b[0m\u001b[0;34m\u001b[0m\u001b[0;34m\u001b[0m\u001b[0m\n\u001b[0;32m--> 100\u001b[0;31m   return _mount(\n\u001b[0m\u001b[1;32m    101\u001b[0m       \u001b[0mmountpoint\u001b[0m\u001b[0;34m,\u001b[0m\u001b[0;34m\u001b[0m\u001b[0;34m\u001b[0m\u001b[0m\n\u001b[1;32m    102\u001b[0m       \u001b[0mforce_remount\u001b[0m\u001b[0;34m=\u001b[0m\u001b[0mforce_remount\u001b[0m\u001b[0;34m,\u001b[0m\u001b[0;34m\u001b[0m\u001b[0;34m\u001b[0m\u001b[0m\n",
            "\u001b[0;32m/usr/local/lib/python3.10/dist-packages/google/colab/drive.py\u001b[0m in \u001b[0;36m_mount\u001b[0;34m(mountpoint, force_remount, timeout_ms, ephemeral, readonly)\u001b[0m\n\u001b[1;32m    135\u001b[0m   )\n\u001b[1;32m    136\u001b[0m   \u001b[0;32mif\u001b[0m \u001b[0mephemeral\u001b[0m\u001b[0;34m:\u001b[0m\u001b[0;34m\u001b[0m\u001b[0;34m\u001b[0m\u001b[0m\n\u001b[0;32m--> 137\u001b[0;31m     _message.blocking_request(\n\u001b[0m\u001b[1;32m    138\u001b[0m         \u001b[0;34m'request_auth'\u001b[0m\u001b[0;34m,\u001b[0m\u001b[0;34m\u001b[0m\u001b[0;34m\u001b[0m\u001b[0m\n\u001b[1;32m    139\u001b[0m         \u001b[0mrequest\u001b[0m\u001b[0;34m=\u001b[0m\u001b[0;34m{\u001b[0m\u001b[0;34m'authType'\u001b[0m\u001b[0;34m:\u001b[0m \u001b[0;34m'dfs_ephemeral'\u001b[0m\u001b[0;34m}\u001b[0m\u001b[0;34m,\u001b[0m\u001b[0;34m\u001b[0m\u001b[0;34m\u001b[0m\u001b[0m\n",
            "\u001b[0;32m/usr/local/lib/python3.10/dist-packages/google/colab/_message.py\u001b[0m in \u001b[0;36mblocking_request\u001b[0;34m(request_type, request, timeout_sec, parent)\u001b[0m\n\u001b[1;32m    174\u001b[0m       \u001b[0mrequest_type\u001b[0m\u001b[0;34m,\u001b[0m \u001b[0mrequest\u001b[0m\u001b[0;34m,\u001b[0m \u001b[0mparent\u001b[0m\u001b[0;34m=\u001b[0m\u001b[0mparent\u001b[0m\u001b[0;34m,\u001b[0m \u001b[0mexpect_reply\u001b[0m\u001b[0;34m=\u001b[0m\u001b[0;32mTrue\u001b[0m\u001b[0;34m\u001b[0m\u001b[0;34m\u001b[0m\u001b[0m\n\u001b[1;32m    175\u001b[0m   )\n\u001b[0;32m--> 176\u001b[0;31m   \u001b[0;32mreturn\u001b[0m \u001b[0mread_reply_from_input\u001b[0m\u001b[0;34m(\u001b[0m\u001b[0mrequest_id\u001b[0m\u001b[0;34m,\u001b[0m \u001b[0mtimeout_sec\u001b[0m\u001b[0;34m)\u001b[0m\u001b[0;34m\u001b[0m\u001b[0;34m\u001b[0m\u001b[0m\n\u001b[0m",
            "\u001b[0;32m/usr/local/lib/python3.10/dist-packages/google/colab/_message.py\u001b[0m in \u001b[0;36mread_reply_from_input\u001b[0;34m(message_id, timeout_sec)\u001b[0m\n\u001b[1;32m    101\u001b[0m     ):\n\u001b[1;32m    102\u001b[0m       \u001b[0;32mif\u001b[0m \u001b[0;34m'error'\u001b[0m \u001b[0;32min\u001b[0m \u001b[0mreply\u001b[0m\u001b[0;34m:\u001b[0m\u001b[0;34m\u001b[0m\u001b[0;34m\u001b[0m\u001b[0m\n\u001b[0;32m--> 103\u001b[0;31m         \u001b[0;32mraise\u001b[0m \u001b[0mMessageError\u001b[0m\u001b[0;34m(\u001b[0m\u001b[0mreply\u001b[0m\u001b[0;34m[\u001b[0m\u001b[0;34m'error'\u001b[0m\u001b[0;34m]\u001b[0m\u001b[0;34m)\u001b[0m\u001b[0;34m\u001b[0m\u001b[0;34m\u001b[0m\u001b[0m\n\u001b[0m\u001b[1;32m    104\u001b[0m       \u001b[0;32mreturn\u001b[0m \u001b[0mreply\u001b[0m\u001b[0;34m.\u001b[0m\u001b[0mget\u001b[0m\u001b[0;34m(\u001b[0m\u001b[0;34m'data'\u001b[0m\u001b[0;34m,\u001b[0m \u001b[0;32mNone\u001b[0m\u001b[0;34m)\u001b[0m\u001b[0;34m\u001b[0m\u001b[0;34m\u001b[0m\u001b[0m\n\u001b[1;32m    105\u001b[0m \u001b[0;34m\u001b[0m\u001b[0m\n",
            "\u001b[0;31mMessageError\u001b[0m: Error: credential propagation was unsuccessful"
          ]
        }
      ],
      "source": [
        "from google.colab import drive\n",
        "drive.mount('/content/drive')"
      ]
    },
    {
      "cell_type": "code",
      "execution_count": null,
      "metadata": {
        "id": "yJuDvoVsowms"
      },
      "outputs": [],
      "source": [
        "data_dir = \"/content/drive/MyDrive/breast-cancer-detection-challenge/data/train\""
      ]
    },
    {
      "cell_type": "code",
      "execution_count": null,
      "metadata": {
        "colab": {
          "base_uri": "https://localhost:8080/"
        },
        "id": "wETXGaXfowmt",
        "outputId": "190d95e6-06ef-4b5a-ca7f-5025682aa821"
      },
      "outputs": [
        {
          "data": {
            "text/plain": [
              "['0', '1']"
            ]
          },
          "execution_count": 4,
          "metadata": {},
          "output_type": "execute_result"
        }
      ],
      "source": [
        "os.listdir(data_dir)"
      ]
    },
    {
      "cell_type": "code",
      "execution_count": null,
      "metadata": {
        "colab": {
          "base_uri": "https://localhost:8080/",
          "height": 539
        },
        "id": "_Df7k8Tmowmu",
        "outputId": "3a183c16-ac53-489c-89c0-74288697d0c2"
      },
      "outputs": [
        {
          "name": "stdout",
          "output_type": "stream",
          "text": [
            "Class 1 Image Shapes:\n",
            "233_1395760879_png.rf.f14ffb3ec8f680895ab3a27a4d4f9cb3.jpg: Shape = (640, 640, 3)\n",
            "2336_29889573_png.rf.4548258c42c559d993c95577a1ce618c.jpg: Shape = (640, 640, 3)\n",
            "2346_1563124928_png.rf.1409821d95aad1efcd61a3a83c8f11e4.jpg: Shape = (640, 640, 3)\n",
            "233_1696805912_png.rf.8f4778e2310fd91079553ea204507e03.jpg: Shape = (640, 640, 3)\n",
            "2331_111081174_png.rf.d08e8df4e1136a10ae788c1293cde35a.jpg: Shape = (640, 640, 3)\n",
            "\n",
            "Class 2 Image Shapes:\n",
            "10226_461614796_png.rf.f590baf457e428552664c33387c6ef49.jpg: Shape = (640, 640, 3)\n",
            "1025_1803952236_png.rf.8e80646ddeff0d70bbd711f0571efc77.jpg: Shape = (640, 640, 3)\n",
            "10432_1434858530_png.rf.e3271173e7745a38ea22e6b5cb6b173c.jpg: Shape = (640, 640, 3)\n",
            "10130_1672636630_png.rf.52c6d1c8c6c58c5c1c5fcaaf57feb81d.jpg: Shape = (640, 640, 3)\n",
            "10226_530620473_png.rf.34ba61615b4290766ccbe9bd5b28ca36.jpg: Shape = (640, 640, 3)\n"
          ]
        },
        {
          "data": {
            "image/png": "[encoded data removed]",
            "text/plain": [
              "<Figure size 1000x500 with 5 Axes>"
            ]
          },
          "metadata": {},
          "output_type": "display_data"
        },
        {
          "data": {
            "image/png": "[encoded data removed]",
            "text/plain": [
              "<Figure size 1000x500 with 5 Axes>"
            ]
          },
          "metadata": {},
          "output_type": "display_data"
        }
      ],
      "source": [
        "def load_images_from_folder(folder, num_samples=5):\n",
        "    \"\"\"Load a few images from a folder.\"\"\"\n",
        "    images = []\n",
        "    for i, filename in enumerate(os.listdir(folder)):\n",
        "        if filename.endswith(('.png', '.jpg', '.jpeg', '.bmp')) and i < num_samples:\n",
        "            img_path = os.path.join(folder, filename)\n",
        "            img = Image.open(img_path)\n",
        "            images.append((filename, np.array(img)))\n",
        "    return images\n",
        "\n",
        "def plot_images(images, class_name):\n",
        "    \"\"\"Plot images in a grid.\"\"\"\n",
        "    plt.figure(figsize=(10, 5))\n",
        "    for i, (filename, img) in enumerate(images):\n",
        "        plt.subplot(1, len(images), i + 1)\n",
        "        plt.imshow(img)\n",
        "        plt.title(f\"{class_name}\")\n",
        "        plt.axis('off')\n",
        "    plt.show()\n",
        "\n",
        "def check_shapes(images):\n",
        "    \"\"\"Print the shape of each image.\"\"\"\n",
        "    for filename, img in images:\n",
        "        print(f\"{filename}: Shape = {img.shape}\")\n",
        "\n",
        "# Replace these with the paths to your folders\n",
        "class_1_folder = \"/content/drive/MyDrive/breast-cancer-detection-challenge/data/train/0\"\n",
        "class_2_folder = \"/content/drive/MyDrive/breast-cancer-detection-challenge/data/train/1\"\n",
        "\n",
        "# Load and plot images for both classes\n",
        "class_1_images = load_images_from_folder(class_1_folder)\n",
        "class_2_images = load_images_from_folder(class_2_folder)\n",
        "\n",
        "print(\"Class 1 Image Shapes:\")\n",
        "check_shapes(class_1_images)\n",
        "\n",
        "print(\"\\nClass 2 Image Shapes:\")\n",
        "check_shapes(class_2_images)\n",
        "\n",
        "plot_images(class_1_images, \"Class 1\")\n",
        "plot_images(class_2_images, \"Class 2\")\n"
      ]
    },
    {
      "cell_type": "code",
      "execution_count": null,
      "metadata": {
        "colab": {
          "base_uri": "https://localhost:8080/"
        },
        "id": "GTJq5CNVxrGx",
        "outputId": "2d37f462-d7e5-42bc-d866-41a4d18aba70"
      },
      "outputs": [
        {
          "name": "stdout",
          "output_type": "stream",
          "text": [
            "30 images have been copied to /content/test/0.\n"
          ]
        }
      ],
      "source": [
        "import random\n",
        "import shutil\n",
        "\n",
        "# Source folder (contains the original images)\n",
        "src_folder = class_1_folder\n",
        "\n",
        "# Destination folder (where 30 random images will be copied)\n",
        "dst_folder = \"/content/test/0\"\n",
        "\n",
        "# Ensure the destination folder exists\n",
        "os.makedirs(dst_folder, exist_ok=True)\n",
        "\n",
        "# Get a list of all image files in the source folder\n",
        "all_images = [f for f in os.listdir(src_folder) if f.lower().endswith(('.png', '.jpg', '.jpeg'))]\n",
        "\n",
        "# Randomly select 30 images (ensure the folder contains at least 30 images)\n",
        "selected_images = random.sample(all_images, 30)\n",
        "\n",
        "# Copy the selected images to the destination folder\n",
        "for image in selected_images:\n",
        "    src_path = os.path.join(src_folder, image)\n",
        "    dst_path = os.path.join(dst_folder, image)\n",
        "    shutil.copy(src_path, dst_path)\n",
        "\n",
        "print(f\"30 images have been copied to {dst_folder}.\")\n"
      ]
    },
    {
      "cell_type": "code",
      "execution_count": null,
      "metadata": {
        "id": "wDriDEOhowmv"
      },
      "outputs": [],
      "source": [
        "batch_size=32\n",
        "\n",
        "training_datagenarator= ImageDataGenerator(preprocessing_function=preprocess_input,\n",
        "                                           horizontal_flip=True,\n",
        "                                           validation_split=0.1)"
      ]
    },
    {
      "cell_type": "code",
      "execution_count": null,
      "metadata": {
        "colab": {
          "base_uri": "https://localhost:8080/"
        },
        "id": "pSDwsjoXowmv",
        "outputId": "68c8da03-2f4d-47ec-bef5-971436321b52"
      },
      "outputs": [
        {
          "name": "stdout",
          "output_type": "stream",
          "text": [
            "Found 2037 images belonging to 2 classes.\n",
            "Found 225 images belonging to 2 classes.\n"
          ]
        }
      ],
      "source": [
        "train=training_datagenarator.flow_from_directory(data_dir,\n",
        "                                               target_size=(299, 299),color_mode='rgb',\n",
        "                                       class_mode='binary',shuffle= True, batch_size=batch_size,subset='training')\n",
        "\n",
        "validation=training_datagenarator.flow_from_directory(data_dir,\n",
        "                                               target_size=(299, 299),color_mode='rgb',\n",
        "                                       class_mode='binary',shuffle= True, batch_size=batch_size,subset='validation')"
      ]
    },
    {
      "cell_type": "code",
      "execution_count": null,
      "metadata": {
        "colab": {
          "base_uri": "https://localhost:8080/"
        },
        "id": "7EeeKKlqowmv",
        "outputId": "06103b44-4380-4d41-8e62-7f5707924b98"
      },
      "outputs": [
        {
          "data": {
            "text/plain": [
              "{'0': 0, '1': 1}"
            ]
          },
          "execution_count": 9,
          "metadata": {},
          "output_type": "execute_result"
        }
      ],
      "source": [
        "validation.class_indices"
      ]
    },
    {
      "cell_type": "code",
      "execution_count": null,
      "metadata": {
        "colab": {
          "base_uri": "https://localhost:8080/"
        },
        "id": "J7i6NXzrowmw",
        "outputId": "405363b0-56b3-42d1-b159-467511430aba"
      },
      "outputs": [
        {
          "data": {
            "text/plain": [
              "{'0': 0, '1': 1}"
            ]
          },
          "execution_count": 10,
          "metadata": {},
          "output_type": "execute_result"
        }
      ],
      "source": [
        "train.class_indices"
      ]
    },
    {
      "cell_type": "code",
      "execution_count": null,
      "metadata": {
        "colab": {
          "base_uri": "https://localhost:8080/"
        },
        "id": "gmZZeuxvowmw",
        "outputId": "0b1739e4-5348-42a2-b483-8d545f92e210"
      },
      "outputs": [
        {
          "name": "stdout",
          "output_type": "stream",
          "text": [
            "Downloading data from https://storage.googleapis.com/tensorflow/keras-applications/inception_v3/inception_v3_weights_tf_dim_ordering_tf_kernels_notop.h5\n",
            "\u001b[1m87910968/87910968\u001b[0m \u001b[32m━━━━━━━━━━━━━━━━━━━━\u001b[0m\u001b[37m\u001b[0m \u001b[1m1s\u001b[0m 0us/step\n"
          ]
        }
      ],
      "source": [
        "from tensorflow.keras.applications.inception_v3 import InceptionV3\n",
        "base_model = InceptionV3(weights='imagenet', include_top=False)\n"
      ]
    },
    {
      "cell_type": "code",
      "execution_count": null,
      "metadata": {
        "colab": {
          "base_uri": "https://localhost:8080/"
        },
        "collapsed": true,
        "id": "cWBTn6-Howmw",
        "outputId": "f850bb93-d7b7-439c-84df-a2051e925f92"
      },
      "outputs": [
        {
          "name": "stdout",
          "output_type": "stream",
          "text": [
            "0 input_layer True\n",
            "1 conv2d True\n",
            "2 batch_normalization True\n",
            "3 activation True\n",
            "4 conv2d_1 True\n",
            "5 batch_normalization_1 True\n",
            "6 activation_1 True\n",
            "7 conv2d_2 True\n",
            "8 batch_normalization_2 True\n",
            "9 activation_2 True\n",
            "10 max_pooling2d True\n",
            "11 conv2d_3 True\n",
            "12 batch_normalization_3 True\n",
            "13 activation_3 True\n",
            "14 conv2d_4 True\n",
            "15 batch_normalization_4 True\n",
            "16 activation_4 True\n",
            "17 max_pooling2d_1 True\n",
            "18 conv2d_8 True\n",
            "19 batch_normalization_8 True\n",
            "20 activation_8 True\n",
            "21 conv2d_6 True\n",
            "22 conv2d_9 True\n",
            "23 batch_normalization_6 True\n",
            "24 batch_normalization_9 True\n",
            "25 activation_6 True\n",
            "26 activation_9 True\n",
            "27 average_pooling2d True\n",
            "28 conv2d_5 True\n",
            "29 conv2d_7 True\n",
            "30 conv2d_10 True\n",
            "31 conv2d_11 True\n",
            "32 batch_normalization_5 True\n",
            "33 batch_normalization_7 True\n",
            "34 batch_normalization_10 True\n",
            "35 batch_normalization_11 True\n",
            "36 activation_5 True\n",
            "37 activation_7 True\n",
            "38 activation_10 True\n",
            "39 activation_11 True\n",
            "40 mixed0 True\n",
            "41 conv2d_15 True\n",
            "42 batch_normalization_15 True\n",
            "43 activation_15 True\n",
            "44 conv2d_13 True\n",
            "45 conv2d_16 True\n",
            "46 batch_normalization_13 True\n",
            "47 batch_normalization_16 True\n",
            "48 activation_13 True\n",
            "49 activation_16 True\n",
            "50 average_pooling2d_1 True\n",
            "51 conv2d_12 True\n",
            "52 conv2d_14 True\n",
            "53 conv2d_17 True\n",
            "54 conv2d_18 True\n",
            "55 batch_normalization_12 True\n",
            "56 batch_normalization_14 True\n",
            "57 batch_normalization_17 True\n",
            "58 batch_normalization_18 True\n",
            "59 activation_12 True\n",
            "60 activation_14 True\n",
            "61 activation_17 True\n",
            "62 activation_18 True\n",
            "63 mixed1 True\n",
            "64 conv2d_22 True\n",
            "65 batch_normalization_22 True\n",
            "66 activation_22 True\n",
            "67 conv2d_20 True\n",
            "68 conv2d_23 True\n",
            "69 batch_normalization_20 True\n",
            "70 batch_normalization_23 True\n",
            "71 activation_20 True\n",
            "72 activation_23 True\n",
            "73 average_pooling2d_2 True\n",
            "74 conv2d_19 True\n",
            "75 conv2d_21 True\n",
            "76 conv2d_24 True\n",
            "77 conv2d_25 True\n",
            "78 batch_normalization_19 True\n",
            "79 batch_normalization_21 True\n",
            "80 batch_normalization_24 True\n",
            "81 batch_normalization_25 True\n",
            "82 activation_19 True\n",
            "83 activation_21 True\n",
            "84 activation_24 True\n",
            "85 activation_25 True\n",
            "86 mixed2 True\n",
            "87 conv2d_27 True\n",
            "88 batch_normalization_27 True\n",
            "89 activation_27 True\n",
            "90 conv2d_28 True\n",
            "91 batch_normalization_28 True\n",
            "92 activation_28 True\n",
            "93 conv2d_26 True\n",
            "94 conv2d_29 True\n",
            "95 batch_normalization_26 True\n",
            "96 batch_normalization_29 True\n",
            "97 activation_26 True\n",
            "98 activation_29 True\n",
            "99 max_pooling2d_2 True\n",
            "100 mixed3 True\n",
            "101 conv2d_34 True\n",
            "102 batch_normalization_34 True\n",
            "103 activation_34 True\n",
            "104 conv2d_35 True\n",
            "105 batch_normalization_35 True\n",
            "106 activation_35 True\n",
            "107 conv2d_31 True\n",
            "108 conv2d_36 True\n",
            "109 batch_normalization_31 True\n",
            "110 batch_normalization_36 True\n",
            "111 activation_31 True\n",
            "112 activation_36 True\n",
            "113 conv2d_32 True\n",
            "114 conv2d_37 True\n",
            "115 batch_normalization_32 True\n",
            "116 batch_normalization_37 True\n",
            "117 activation_32 True\n",
            "118 activation_37 True\n",
            "119 average_pooling2d_3 True\n",
            "120 conv2d_30 True\n",
            "121 conv2d_33 True\n",
            "122 conv2d_38 True\n",
            "123 conv2d_39 True\n",
            "124 batch_normalization_30 True\n",
            "125 batch_normalization_33 True\n",
            "126 batch_normalization_38 True\n",
            "127 batch_normalization_39 True\n",
            "128 activation_30 True\n",
            "129 activation_33 True\n",
            "130 activation_38 True\n",
            "131 activation_39 True\n",
            "132 mixed4 True\n",
            "133 conv2d_44 True\n",
            "134 batch_normalization_44 True\n",
            "135 activation_44 True\n",
            "136 conv2d_45 True\n",
            "137 batch_normalization_45 True\n",
            "138 activation_45 True\n",
            "139 conv2d_41 True\n",
            "140 conv2d_46 True\n",
            "141 batch_normalization_41 True\n",
            "142 batch_normalization_46 True\n",
            "143 activation_41 True\n",
            "144 activation_46 True\n",
            "145 conv2d_42 True\n",
            "146 conv2d_47 True\n",
            "147 batch_normalization_42 True\n",
            "148 batch_normalization_47 True\n",
            "149 activation_42 True\n",
            "150 activation_47 True\n",
            "151 average_pooling2d_4 True\n",
            "152 conv2d_40 True\n",
            "153 conv2d_43 True\n",
            "154 conv2d_48 True\n",
            "155 conv2d_49 True\n",
            "156 batch_normalization_40 True\n",
            "157 batch_normalization_43 True\n",
            "158 batch_normalization_48 True\n",
            "159 batch_normalization_49 True\n",
            "160 activation_40 True\n",
            "161 activation_43 True\n",
            "162 activation_48 True\n",
            "163 activation_49 True\n",
            "164 mixed5 True\n",
            "165 conv2d_54 True\n",
            "166 batch_normalization_54 True\n",
            "167 activation_54 True\n",
            "168 conv2d_55 True\n",
            "169 batch_normalization_55 True\n",
            "170 activation_55 True\n",
            "171 conv2d_51 True\n",
            "172 conv2d_56 True\n",
            "173 batch_normalization_51 True\n",
            "174 batch_normalization_56 True\n",
            "175 activation_51 True\n",
            "176 activation_56 True\n",
            "177 conv2d_52 True\n",
            "178 conv2d_57 True\n",
            "179 batch_normalization_52 True\n",
            "180 batch_normalization_57 True\n",
            "181 activation_52 True\n",
            "182 activation_57 True\n",
            "183 average_pooling2d_5 True\n",
            "184 conv2d_50 True\n",
            "185 conv2d_53 True\n",
            "186 conv2d_58 True\n",
            "187 conv2d_59 True\n",
            "188 batch_normalization_50 True\n",
            "189 batch_normalization_53 True\n",
            "190 batch_normalization_58 True\n",
            "191 batch_normalization_59 True\n",
            "192 activation_50 True\n",
            "193 activation_53 True\n",
            "194 activation_58 True\n",
            "195 activation_59 True\n",
            "196 mixed6 True\n",
            "197 conv2d_64 True\n",
            "198 batch_normalization_64 True\n",
            "199 activation_64 True\n",
            "200 conv2d_65 True\n",
            "201 batch_normalization_65 True\n",
            "202 activation_65 True\n",
            "203 conv2d_61 True\n",
            "204 conv2d_66 True\n",
            "205 batch_normalization_61 True\n",
            "206 batch_normalization_66 True\n",
            "207 activation_61 True\n",
            "208 activation_66 True\n",
            "209 conv2d_62 True\n",
            "210 conv2d_67 True\n",
            "211 batch_normalization_62 True\n",
            "212 batch_normalization_67 True\n",
            "213 activation_62 True\n",
            "214 activation_67 True\n",
            "215 average_pooling2d_6 True\n",
            "216 conv2d_60 True\n",
            "217 conv2d_63 True\n",
            "218 conv2d_68 True\n",
            "219 conv2d_69 True\n",
            "220 batch_normalization_60 True\n",
            "221 batch_normalization_63 True\n",
            "222 batch_normalization_68 True\n",
            "223 batch_normalization_69 True\n",
            "224 activation_60 True\n",
            "225 activation_63 True\n",
            "226 activation_68 True\n",
            "227 activation_69 True\n",
            "228 mixed7 True\n",
            "229 conv2d_72 True\n",
            "230 batch_normalization_72 True\n",
            "231 activation_72 True\n",
            "232 conv2d_73 True\n",
            "233 batch_normalization_73 True\n",
            "234 activation_73 True\n",
            "235 conv2d_70 True\n",
            "236 conv2d_74 True\n",
            "237 batch_normalization_70 True\n",
            "238 batch_normalization_74 True\n",
            "239 activation_70 True\n",
            "240 activation_74 True\n",
            "241 conv2d_71 True\n",
            "242 conv2d_75 True\n",
            "243 batch_normalization_71 True\n",
            "244 batch_normalization_75 True\n",
            "245 activation_71 True\n",
            "246 activation_75 True\n",
            "247 max_pooling2d_3 True\n",
            "248 mixed8 True\n",
            "249 conv2d_80 True\n",
            "250 batch_normalization_80 True\n",
            "251 activation_80 True\n",
            "252 conv2d_77 True\n",
            "253 conv2d_81 True\n",
            "254 batch_normalization_77 True\n",
            "255 batch_normalization_81 True\n",
            "256 activation_77 True\n",
            "257 activation_81 True\n",
            "258 conv2d_78 True\n",
            "259 conv2d_79 True\n",
            "260 conv2d_82 True\n",
            "261 conv2d_83 True\n",
            "262 average_pooling2d_7 True\n",
            "263 conv2d_76 True\n",
            "264 batch_normalization_78 True\n",
            "265 batch_normalization_79 True\n",
            "266 batch_normalization_82 True\n",
            "267 batch_normalization_83 True\n",
            "268 conv2d_84 True\n",
            "269 batch_normalization_76 True\n",
            "270 activation_78 True\n",
            "271 activation_79 True\n",
            "272 activation_82 True\n",
            "273 activation_83 True\n",
            "274 batch_normalization_84 True\n",
            "275 activation_76 True\n",
            "276 mixed9_0 True\n",
            "277 concatenate True\n",
            "278 activation_84 True\n",
            "279 mixed9 True\n",
            "280 conv2d_89 True\n",
            "281 batch_normalization_89 True\n",
            "282 activation_89 True\n",
            "283 conv2d_86 True\n",
            "284 conv2d_90 True\n",
            "285 batch_normalization_86 True\n",
            "286 batch_normalization_90 True\n",
            "287 activation_86 True\n",
            "288 activation_90 True\n",
            "289 conv2d_87 True\n",
            "290 conv2d_88 True\n",
            "291 conv2d_91 True\n",
            "292 conv2d_92 True\n",
            "293 average_pooling2d_8 True\n",
            "294 conv2d_85 True\n",
            "295 batch_normalization_87 True\n",
            "296 batch_normalization_88 True\n",
            "297 batch_normalization_91 True\n",
            "298 batch_normalization_92 True\n",
            "299 conv2d_93 True\n",
            "300 batch_normalization_85 True\n",
            "301 activation_87 True\n",
            "302 activation_88 True\n",
            "303 activation_91 True\n",
            "304 activation_92 True\n",
            "305 batch_normalization_93 True\n",
            "306 activation_85 True\n",
            "307 mixed9_1 True\n",
            "308 concatenate_1 True\n",
            "309 activation_93 True\n",
            "310 mixed10 True\n"
          ]
        }
      ],
      "source": [
        "for layer in base_model.layers:\n",
        "    layer.trainable = True\n",
        "# Make sure you have frozen the correct layers\n",
        "for i, layer in enumerate(base_model.layers):\n",
        "    print(i, layer.name, layer.trainable)"
      ]
    },
    {
      "cell_type": "code",
      "execution_count": null,
      "metadata": {
        "id": "Qwfuk5xFowmx"
      },
      "outputs": [],
      "source": [
        "model = Sequential([\n",
        "    base_model,  # Add the InceptionV3 base model\n",
        "    layers.GlobalAveragePooling2D(),  # Global average pooling layer\n",
        "    layers.Dense(128, activation='relu'),\n",
        "    layers.Dense(64, activation='relu'),  # Fully connected layer\n",
        "    layers.Dense(1, activation='sigmoid')  # Output layer for binary classification (adjust if necessary)\n",
        "])"
      ]
    },
    {
      "cell_type": "code",
      "execution_count": null,
      "metadata": {
        "id": "VLqohKEzowmx"
      },
      "outputs": [],
      "source": [
        "callback = tf.keras.callbacks.EarlyStopping(monitor='val_loss', patience=5)"
      ]
    },
    {
      "cell_type": "code",
      "execution_count": null,
      "metadata": {
        "id": "My_lbRoJowmx"
      },
      "outputs": [],
      "source": [
        "checkpoint = tf.keras.callbacks.ModelCheckpoint(\n",
        "    '/content/pinktober.keras',\n",
        "    monitor='val_loss',\n",
        "    mode='min',\n",
        "    save_best_only=True\n",
        ")\n",
        "check = checkpoint\n"
      ]
    },
    {
      "cell_type": "code",
      "execution_count": null,
      "metadata": {
        "id": "rDIQNOwTowmx"
      },
      "outputs": [],
      "source": [
        "model.compile(optimizer=tf.keras.optimizers.SGD(learning_rate=5e-02),loss='binary_crossentropy',metrics=['accuracy'])\n"
      ]
    },
    {
      "cell_type": "code",
      "execution_count": null,
      "metadata": {
        "colab": {
          "background_save": true,
          "base_uri": "https://localhost:8080/"
        },
        "id": "rdyDSV9Oowmx",
        "outputId": "722f5e14-a7e2-4c68-870a-8b2e7105a11d"
      },
      "outputs": [
        {
          "name": "stdout",
          "output_type": "stream",
          "text": [
            "Epoch 1/40\n"
          ]
        },
        {
          "name": "stderr",
          "output_type": "stream",
          "text": [
            "/usr/local/lib/python3.10/dist-packages/keras/src/trainers/data_adapters/py_dataset_adapter.py:121: UserWarning: Your `PyDataset` class should call `super().__init__(**kwargs)` in its constructor. `**kwargs` can include `workers`, `use_multiprocessing`, `max_queue_size`. Do not pass these arguments to `fit()`, as they will be ignored.\n",
            "  self._warn_if_super_not_called()\n"
          ]
        },
        {
          "name": "stdout",
          "output_type": "stream",
          "text": [
            "\u001b[1m64/64\u001b[0m \u001b[32m━━━━━━━━━━━━━━━━━━━━\u001b[0m\u001b[37m\u001b[0m \u001b[1m2213s\u001b[0m 34s/step - accuracy: 0.6415 - loss: 0.6456 - val_accuracy: 0.6933 - val_loss: 0.6176\n",
            "Epoch 2/40\n",
            "\u001b[1m40/64\u001b[0m \u001b[32m━━━━━━━━━━━━\u001b[0m\u001b[37m━━━━━━━━\u001b[0m \u001b[1m12:51\u001b[0m 32s/step - accuracy: 0.6968 - loss: 0.5809"
          ]
        }
      ],
      "source": [
        "hist =model.fit(train,\n",
        "        validation_data=validation,\n",
        "        epochs=40,\n",
        "        callbacks=[callback,check]\n",
        "                 )"
      ]
    },
    {
      "cell_type": "code",
      "execution_count": null,
      "metadata": {
        "colab": {
          "base_uri": "https://localhost:8080/"
        },
        "id": "CNKNUs5att6l",
        "outputId": "92af0ac2-e873-423b-c015-a6126a811f12"
      },
      "outputs": [
        {
          "data": {
            "text/plain": [
              "['1', '0']"
            ]
          },
          "execution_count": 24,
          "metadata": {},
          "output_type": "execute_result"
        }
      ],
      "source": [
        "test_dir = \"/content/test\"\n",
        "os.listdir(test_dir)"
      ]
    },
    {
      "cell_type": "code",
      "execution_count": null,
      "metadata": {
        "colab": {
          "base_uri": "https://localhost:8080/"
        },
        "id": "FyNLQl9ZyeUN",
        "outputId": "cbc7d590-51f0-45e7-85b7-d44197cc6bbd"
      },
      "outputs": [
        {
          "name": "stdout",
          "output_type": "stream",
          "text": [
            "Found 60 images belonging to 2 classes.\n"
          ]
        }
      ],
      "source": [
        "testing_datagenarator= ImageDataGenerator(preprocessing_function=preprocess_input)\n",
        "test=testing_datagenarator.flow_from_directory(test_dir,\n",
        "                                               target_size=(640, 640),color_mode='rgb',\n",
        "                                       class_mode='categorical',shuffle= False, batch_size=batch_size)"
      ]
    },
    {
      "cell_type": "code",
      "execution_count": null,
      "metadata": {
        "colab": {
          "base_uri": "https://localhost:8080/"
        },
        "id": "8VjxfoCPymvE",
        "outputId": "6713dcd9-2417-48d2-f2f7-153299fa2907"
      },
      "outputs": [
        {
          "data": {
            "text/plain": [
              "{'0': 0, '1': 1}"
            ]
          },
          "execution_count": 26,
          "metadata": {},
          "output_type": "execute_result"
        }
      ],
      "source": [
        "test.class_indices"
      ]
    },
    {
      "cell_type": "code",
      "execution_count": null,
      "metadata": {
        "colab": {
          "base_uri": "https://localhost:8080/"
        },
        "id": "J_Ai35u-yu1O",
        "outputId": "08691535-f164-427d-be0e-988cc7be00c6"
      },
      "outputs": [
        {
          "name": "stderr",
          "output_type": "stream",
          "text": [
            "/usr/local/lib/python3.10/dist-packages/keras/src/trainers/data_adapters/py_dataset_adapter.py:121: UserWarning: Your `PyDataset` class should call `super().__init__(**kwargs)` in its constructor. `**kwargs` can include `workers`, `use_multiprocessing`, `max_queue_size`. Do not pass these arguments to `fit()`, as they will be ignored.\n",
            "  self._warn_if_super_not_called()\n"
          ]
        },
        {
          "name": "stdout",
          "output_type": "stream",
          "text": [
            "\u001b[1m2/2\u001b[0m \u001b[32m━━━━━━━━━━━━━━━━━━━━\u001b[0m\u001b[37m\u001b[0m \u001b[1m65s\u001b[0m 31s/step\n",
            "Test Accuracy: 50.00%\n"
          ]
        }
      ],
      "source": [
        "import numpy as np\n",
        "from sklearn.metrics import accuracy_score\n",
        "\n",
        "y_true = test.classes\n",
        "\n",
        "y_pred = model.predict(test)\n",
        "y_pred_labels = np.argmax(y_pred, axis=1)\n",
        "\n",
        "accuracy = accuracy_score(y_true, y_pred_labels)\n",
        "\n",
        "print(f\"Test Accuracy: {accuracy * 100:.2f}%\")\n"
      ]
    },
    {
      "cell_type": "code",
      "execution_count": null,
      "metadata": {
        "id": "uHSEwTOOzTXc"
      },
      "outputs": [],
      "source": [
        "from tensorflow.keras.applications import MobileNetV2\n",
        "from tensorflow.keras import layers, models\n",
        "from tensorflow.keras.models import Sequential\n",
        "\n",
        "# Load MobileNetV2 with pre-trained weights and custom input shape\n",
        "base_model = MobileNetV2(input_shape=(224, 224, 3),  # Adjust to your input shape\n",
        "                         include_top=False,  # Remove the top layer for transfer learning\n",
        "                         weights='imagenet')  # Use pre-trained ImageNet weights\n",
        "\n",
        "# Freeze the base model layers to prevent updates during initial training\n",
        "base_model.trainable = False\n",
        "\n",
        "# Build the model\n",
        "cnn = Sequential([\n",
        "    base_model,  # Pre-trained base model\n",
        "    layers.GlobalAveragePooling2D(),  # Reduce the spatial dimensions\n",
        "    layers.Dense(64, activation='relu'),  # Regularization to prevent overfitting\n",
        "    layers.Dense(1, activation='sigmoid')  # Output layer for 3 classes\n",
        "])\n",
        "\n",
        "# Compile the model\n",
        "cnn.compile(optimizer=tf.keras.optimizers.SGD(learning_rate=5e-02),\n",
        "              loss='binary_crossentropy',\n",
        "              metrics=['accuracy'])\n",
        "\n"
      ]
    },
    {
      "cell_type": "code",
      "execution_count": null,
      "metadata": {
        "colab": {
          "base_uri": "https://localhost:8080/"
        },
        "id": "HoQ5LJ-EeqFm",
        "outputId": "d1f87938-382b-4b4c-8b7a-b1d9567159a5"
      },
      "outputs": [
        {
          "name": "stdout",
          "output_type": "stream",
          "text": [
            "Epoch 1/30\n"
          ]
        },
        {
          "name": "stderr",
          "output_type": "stream",
          "text": [
            "/usr/local/lib/python3.10/dist-packages/keras/src/trainers/data_adapters/py_dataset_adapter.py:121: UserWarning: Your `PyDataset` class should call `super().__init__(**kwargs)` in its constructor. `**kwargs` can include `workers`, `use_multiprocessing`, `max_queue_size`. Do not pass these arguments to `fit()`, as they will be ignored.\n",
            "  self._warn_if_super_not_called()\n"
          ]
        },
        {
          "name": "stdout",
          "output_type": "stream",
          "text": [
            "\u001b[1m64/64\u001b[0m \u001b[32m━━━━━━━━━━━━━━━━━━━━\u001b[0m\u001b[37m\u001b[0m \u001b[1m22s\u001b[0m 317ms/step - accuracy: 0.6422 - loss: 0.8776 - val_accuracy: 0.6667 - val_loss: 0.6061\n",
            "Epoch 2/30\n",
            "\u001b[1m64/64\u001b[0m \u001b[32m━━━━━━━━━━━━━━━━━━━━\u001b[0m\u001b[37m\u001b[0m \u001b[1m35s\u001b[0m 225ms/step - accuracy: 0.6536 - loss: 0.6252 - val_accuracy: 0.6667 - val_loss: 0.6231\n",
            "Epoch 3/30\n",
            "\u001b[1m64/64\u001b[0m \u001b[32m━━━━━━━━━━━━━━━━━━━━\u001b[0m\u001b[37m\u001b[0m \u001b[1m20s\u001b[0m 224ms/step - accuracy: 0.6605 - loss: 0.6198 - val_accuracy: 0.6667 - val_loss: 0.6102\n",
            "Epoch 4/30\n",
            "\u001b[1m64/64\u001b[0m \u001b[32m━━━━━━━━━━━━━━━━━━━━\u001b[0m\u001b[37m\u001b[0m \u001b[1m20s\u001b[0m 221ms/step - accuracy: 0.6642 - loss: 0.6018 - val_accuracy: 0.6622 - val_loss: 0.6061\n",
            "Epoch 5/30\n",
            "\u001b[1m64/64\u001b[0m \u001b[32m━━━━━━━━━━━━━━━━━━━━\u001b[0m\u001b[37m\u001b[0m \u001b[1m21s\u001b[0m 225ms/step - accuracy: 0.6690 - loss: 0.6066 - val_accuracy: 0.6667 - val_loss: 0.6192\n",
            "Epoch 6/30\n",
            "\u001b[1m64/64\u001b[0m \u001b[32m━━━━━━━━━━━━━━━━━━━━\u001b[0m\u001b[37m\u001b[0m \u001b[1m20s\u001b[0m 225ms/step - accuracy: 0.6746 - loss: 0.5955 - val_accuracy: 0.6800 - val_loss: 0.6151\n",
            "Epoch 7/30\n",
            "\u001b[1m64/64\u001b[0m \u001b[32m━━━━━━━━━━━━━━━━━━━━\u001b[0m\u001b[37m\u001b[0m \u001b[1m16s\u001b[0m 225ms/step - accuracy: 0.6841 - loss: 0.5842 - val_accuracy: 0.6578 - val_loss: 0.6020\n",
            "Epoch 8/30\n",
            "\u001b[1m64/64\u001b[0m \u001b[32m━━━━━━━━━━━━━━━━━━━━\u001b[0m\u001b[37m\u001b[0m \u001b[1m20s\u001b[0m 221ms/step - accuracy: 0.6710 - loss: 0.5900 - val_accuracy: 0.6756 - val_loss: 0.6279\n",
            "Epoch 9/30\n",
            "\u001b[1m64/64\u001b[0m \u001b[32m━━━━━━━━━━━━━━━━━━━━\u001b[0m\u001b[37m\u001b[0m \u001b[1m15s\u001b[0m 221ms/step - accuracy: 0.6870 - loss: 0.5722 - val_accuracy: 0.6800 - val_loss: 0.6345\n",
            "Epoch 10/30\n",
            "\u001b[1m64/64\u001b[0m \u001b[32m━━━━━━━━━━━━━━━━━━━━\u001b[0m\u001b[37m\u001b[0m \u001b[1m16s\u001b[0m 233ms/step - accuracy: 0.6849 - loss: 0.5865 - val_accuracy: 0.6889 - val_loss: 0.6142\n",
            "Epoch 11/30\n",
            "\u001b[1m64/64\u001b[0m \u001b[32m━━━━━━━━━━━━━━━━━━━━\u001b[0m\u001b[37m\u001b[0m \u001b[1m20s\u001b[0m 225ms/step - accuracy: 0.6924 - loss: 0.5648 - val_accuracy: 0.6578 - val_loss: 0.6428\n",
            "Epoch 12/30\n",
            "\u001b[1m64/64\u001b[0m \u001b[32m━━━━━━━━━━━━━━━━━━━━\u001b[0m\u001b[37m\u001b[0m \u001b[1m17s\u001b[0m 234ms/step - accuracy: 0.6884 - loss: 0.5698 - val_accuracy: 0.7156 - val_loss: 0.6225\n",
            "Epoch 13/30\n",
            "\u001b[1m64/64\u001b[0m \u001b[32m━━━━━━━━━━━━━━━━━━━━\u001b[0m\u001b[37m\u001b[0m \u001b[1m15s\u001b[0m 220ms/step - accuracy: 0.7021 - loss: 0.5528 - val_accuracy: 0.5778 - val_loss: 0.6664\n",
            "Epoch 14/30\n",
            "\u001b[1m64/64\u001b[0m \u001b[32m━━━━━━━━━━━━━━━━━━━━\u001b[0m\u001b[37m\u001b[0m \u001b[1m16s\u001b[0m 226ms/step - accuracy: 0.7050 - loss: 0.5610 - val_accuracy: 0.6711 - val_loss: 0.6418\n",
            "Epoch 15/30\n",
            "\u001b[1m64/64\u001b[0m \u001b[32m━━━━━━━━━━━━━━━━━━━━\u001b[0m\u001b[37m\u001b[0m \u001b[1m20s\u001b[0m 222ms/step - accuracy: 0.7267 - loss: 0.5414 - val_accuracy: 0.6711 - val_loss: 0.6197\n",
            "Epoch 16/30\n",
            "\u001b[1m64/64\u001b[0m \u001b[32m━━━━━━━━━━━━━━━━━━━━\u001b[0m\u001b[37m\u001b[0m \u001b[1m16s\u001b[0m 224ms/step - accuracy: 0.7058 - loss: 0.5523 - val_accuracy: 0.6889 - val_loss: 0.6528\n",
            "Epoch 17/30\n",
            "\u001b[1m64/64\u001b[0m \u001b[32m━━━━━━━━━━━━━━━━━━━━\u001b[0m\u001b[37m\u001b[0m \u001b[1m21s\u001b[0m 225ms/step - accuracy: 0.7251 - loss: 0.5253 - val_accuracy: 0.7200 - val_loss: 0.6311\n",
            "Epoch 18/30\n",
            "\u001b[1m64/64\u001b[0m \u001b[32m━━━━━━━━━━━━━━━━━━━━\u001b[0m\u001b[37m\u001b[0m \u001b[1m15s\u001b[0m 219ms/step - accuracy: 0.7308 - loss: 0.5311 - val_accuracy: 0.6978 - val_loss: 0.5928\n",
            "Epoch 19/30\n",
            "\u001b[1m64/64\u001b[0m \u001b[32m━━━━━━━━━━━━━━━━━━━━\u001b[0m\u001b[37m\u001b[0m \u001b[1m17s\u001b[0m 234ms/step - accuracy: 0.7153 - loss: 0.5343 - val_accuracy: 0.6000 - val_loss: 0.6458\n",
            "Epoch 20/30\n",
            "\u001b[1m64/64\u001b[0m \u001b[32m━━━━━━━━━━━━━━━━━━━━\u001b[0m\u001b[37m\u001b[0m \u001b[1m16s\u001b[0m 216ms/step - accuracy: 0.7226 - loss: 0.5412 - val_accuracy: 0.6667 - val_loss: 0.6230\n",
            "Epoch 21/30\n",
            "\u001b[1m64/64\u001b[0m \u001b[32m━━━━━━━━━━━━━━━━━━━━\u001b[0m\u001b[37m\u001b[0m \u001b[1m22s\u001b[0m 251ms/step - accuracy: 0.7286 - loss: 0.5314 - val_accuracy: 0.6756 - val_loss: 0.7052\n",
            "Epoch 22/30\n",
            "\u001b[1m64/64\u001b[0m \u001b[32m━━━━━━━━━━━━━━━━━━━━\u001b[0m\u001b[37m\u001b[0m \u001b[1m16s\u001b[0m 221ms/step - accuracy: 0.7488 - loss: 0.5056 - val_accuracy: 0.7111 - val_loss: 0.5925\n",
            "Epoch 23/30\n",
            "\u001b[1m64/64\u001b[0m \u001b[32m━━━━━━━━━━━━━━━━━━━━\u001b[0m\u001b[37m\u001b[0m \u001b[1m21s\u001b[0m 230ms/step - accuracy: 0.7527 - loss: 0.5066 - val_accuracy: 0.6711 - val_loss: 0.6229\n",
            "Epoch 24/30\n",
            "\u001b[1m64/64\u001b[0m \u001b[32m━━━━━━━━━━━━━━━━━━━━\u001b[0m\u001b[37m\u001b[0m \u001b[1m16s\u001b[0m 223ms/step - accuracy: 0.7473 - loss: 0.4977 - val_accuracy: 0.6889 - val_loss: 0.6228\n",
            "Epoch 25/30\n",
            "\u001b[1m64/64\u001b[0m \u001b[32m━━━━━━━━━━━━━━━━━━━━\u001b[0m\u001b[37m\u001b[0m \u001b[1m16s\u001b[0m 224ms/step - accuracy: 0.7399 - loss: 0.5104 - val_accuracy: 0.6356 - val_loss: 0.6712\n",
            "Epoch 26/30\n",
            "\u001b[1m64/64\u001b[0m \u001b[32m━━━━━━━━━━━━━━━━━━━━\u001b[0m\u001b[37m\u001b[0m \u001b[1m16s\u001b[0m 223ms/step - accuracy: 0.7377 - loss: 0.5201 - val_accuracy: 0.7111 - val_loss: 0.6268\n",
            "Epoch 27/30\n",
            "\u001b[1m64/64\u001b[0m \u001b[32m━━━━━━━━━━━━━━━━━━━━\u001b[0m\u001b[37m\u001b[0m \u001b[1m22s\u001b[0m 239ms/step - accuracy: 0.7430 - loss: 0.4919 - val_accuracy: 0.6711 - val_loss: 0.6315\n",
            "Epoch 28/30\n",
            "\u001b[1m64/64\u001b[0m \u001b[32m━━━━━━━━━━━━━━━━━━━━\u001b[0m\u001b[37m\u001b[0m \u001b[1m16s\u001b[0m 218ms/step - accuracy: 0.7556 - loss: 0.4896 - val_accuracy: 0.6756 - val_loss: 0.8024\n",
            "Epoch 29/30\n",
            "\u001b[1m64/64\u001b[0m \u001b[32m━━━━━━━━━━━━━━━━━━━━\u001b[0m\u001b[37m\u001b[0m \u001b[1m16s\u001b[0m 214ms/step - accuracy: 0.7514 - loss: 0.4717 - val_accuracy: 0.6889 - val_loss: 0.7187\n",
            "Epoch 30/30\n",
            "\u001b[1m64/64\u001b[0m \u001b[32m━━━━━━━━━━━━━━━━━━━━\u001b[0m\u001b[37m\u001b[0m \u001b[1m22s\u001b[0m 252ms/step - accuracy: 0.7620 - loss: 0.4860 - val_accuracy: 0.6933 - val_loss: 0.6511\n"
          ]
        }
      ],
      "source": [
        "hist2 =cnn.fit(train,\n",
        "        validation_data=validation,\n",
        "        epochs=30\n",
        "                 )"
      ]
    },
    {
      "cell_type": "code",
      "execution_count": null,
      "metadata": {
        "colab": {
          "base_uri": "https://localhost:8080/"
        },
        "id": "dLESIh02gCw-",
        "outputId": "9ac416c2-6353-43bf-adef-d292181d250c"
      },
      "outputs": [
        {
          "name": "stdout",
          "output_type": "stream",
          "text": [
            "Found 60 images belonging to 2 classes.\n"
          ]
        },
        {
          "name": "stderr",
          "output_type": "stream",
          "text": [
            "/usr/local/lib/python3.10/dist-packages/keras/src/trainers/data_adapters/py_dataset_adapter.py:121: UserWarning: Your `PyDataset` class should call `super().__init__(**kwargs)` in its constructor. `**kwargs` can include `workers`, `use_multiprocessing`, `max_queue_size`. Do not pass these arguments to `fit()`, as they will be ignored.\n",
            "  self._warn_if_super_not_called()\n"
          ]
        },
        {
          "name": "stdout",
          "output_type": "stream",
          "text": [
            "\u001b[1m60/60\u001b[0m \u001b[32m━━━━━━━━━━━━━━━━━━━━\u001b[0m\u001b[37m\u001b[0m \u001b[1m7s\u001b[0m 10ms/step\n",
            "Test Accuracy: 50.00%\n",
            "Confusion Matrix:\n",
            " [[30  0]\n",
            " [30  0]]\n"
          ]
        },
        {
          "data": {
            "text/plain": [
              "array([0, 0, 0, 0, 0, 0, 0, 0, 0, 0, 0, 0, 0, 0, 0, 0, 0, 0, 0, 0, 0, 0,\n",
              "       0, 0, 0, 0, 0, 0, 0, 0, 0, 0, 0, 0, 0, 0, 0, 0, 0, 0, 0, 0, 0, 0,\n",
              "       0, 0, 0, 0, 0, 0, 0, 0, 0, 0, 0, 0, 0, 0, 0, 0])"
            ]
          },
          "execution_count": 74,
          "metadata": {},
          "output_type": "execute_result"
        }
      ],
      "source": [
        "from tensorflow.keras.preprocessing.image import ImageDataGenerator\n",
        "from tensorflow.keras.applications.resnet50 import preprocess_input\n",
        "from sklearn.metrics import accuracy_score, confusion_matrix\n",
        "\n",
        "# Initialize ImageDataGenerator with preprocessing\n",
        "testing_datagen = ImageDataGenerator(preprocessing_function=preprocess_input)\n",
        "\n",
        "# Load test dataset\n",
        "test = testing_datagen.flow_from_directory(\n",
        "    test_dir,\n",
        "    target_size=(224, 224),\n",
        "    color_mode='rgb',\n",
        "    class_mode='binary',\n",
        "    shuffle=False,\n",
        "    batch_size=1  # Ensure batch size matches small dataset\n",
        ")\n",
        "\n",
        "# True labels from the dataset\n",
        "y_true = test.classes\n",
        "\n",
        "# Predict using the model\n",
        "y_pred = model.predict(test)\n",
        "y_pred_labels = np.argmax(y_pred, axis=1)\n",
        "\n",
        "# Evaluate accuracy\n",
        "accuracy = accuracy_score(y_true, y_pred_labels)\n",
        "print(f\"Test Accuracy: {accuracy * 100:.2f}%\")\n",
        "\n",
        "# Optional: Check confusion matrix\n",
        "cm = confusion_matrix(y_true, y_pred_labels)\n",
        "print(\"Confusion Matrix:\\n\", cm)\n",
        "y_true\n",
        "y_pred_labels"
      ]
    },
    {
      "cell_type": "code",
      "execution_count": null,
      "metadata": {
        "colab": {
          "base_uri": "https://localhost:8080/"
        },
        "id": "kN8KlUHMmDH_",
        "outputId": "ade72996-2bd4-4835-b3bf-066988a2cca0"
      },
      "outputs": [
        {
          "name": "stdout",
          "output_type": "stream",
          "text": [
            "Epoch 1/5\n"
          ]
        },
        {
          "name": "stderr",
          "output_type": "stream",
          "text": [
            "/usr/local/lib/python3.10/dist-packages/keras/src/trainers/data_adapters/py_dataset_adapter.py:121: UserWarning: Your `PyDataset` class should call `super().__init__(**kwargs)` in its constructor. `**kwargs` can include `workers`, `use_multiprocessing`, `max_queue_size`. Do not pass these arguments to `fit()`, as they will be ignored.\n",
            "  self._warn_if_super_not_called()\n"
          ]
        },
        {
          "name": "stdout",
          "output_type": "stream",
          "text": [
            "\u001b[1m64/64\u001b[0m \u001b[32m━━━━━━━━━━━━━━━━━━━━\u001b[0m\u001b[37m\u001b[0m \u001b[1m113s\u001b[0m 754ms/step - accuracy: 0.6647 - loss: 0.0000e+00 - val_accuracy: 0.6667 - val_loss: 0.0000e+00\n",
            "Epoch 2/5\n",
            "\u001b[1m64/64\u001b[0m \u001b[32m━━━━━━━━━━━━━━━━━━━━\u001b[0m\u001b[37m\u001b[0m \u001b[1m30s\u001b[0m 311ms/step - accuracy: 0.6681 - loss: 0.0000e+00 - val_accuracy: 0.6667 - val_loss: 0.0000e+00\n",
            "Epoch 3/5\n",
            "\u001b[1m64/64\u001b[0m \u001b[32m━━━━━━━━━━━━━━━━━━━━\u001b[0m\u001b[37m\u001b[0m \u001b[1m22s\u001b[0m 322ms/step - accuracy: 0.6740 - loss: 0.0000e+00 - val_accuracy: 0.6667 - val_loss: 0.0000e+00\n",
            "Epoch 4/5\n",
            "\u001b[1m64/64\u001b[0m \u001b[32m━━━━━━━━━━━━━━━━━━━━\u001b[0m\u001b[37m\u001b[0m \u001b[1m23s\u001b[0m 325ms/step - accuracy: 0.6632 - loss: 0.0000e+00 - val_accuracy: 0.6667 - val_loss: 0.0000e+00\n",
            "Epoch 5/5\n",
            "\u001b[1m64/64\u001b[0m \u001b[32m━━━━━━━━━━━━━━━━━━━━\u001b[0m\u001b[37m\u001b[0m \u001b[1m40s\u001b[0m 308ms/step - accuracy: 0.6676 - loss: 0.0000e+00 - val_accuracy: 0.6667 - val_loss: 0.0000e+00\n"
          ]
        },
        {
          "data": {
            "text/plain": [
              "<keras.src.callbacks.history.History at 0x7e834cf032b0>"
            ]
          },
          "execution_count": 73,
          "metadata": {},
          "output_type": "execute_result"
        }
      ],
      "source": [
        "from tensorflow.keras.applications import ResNet50\n",
        "from tensorflow.keras.models import Sequential\n",
        "from tensorflow.keras.layers import Dense, GlobalAveragePooling2D\n",
        "\n",
        "# Load pre-trained ResNet50 without the top layer\n",
        "base_model = ResNet50(weights='imagenet', include_top=False, input_shape=(224, 224, 3))\n",
        "\n",
        "# Add custom classification head\n",
        "model = Sequential([\n",
        "    base_model,\n",
        "    GlobalAveragePooling2D(),\n",
        "    Dense(1, activation='sigmoid')\n",
        "])\n",
        "\n",
        "# Compile the model\n",
        "model.compile(optimizer='adam', loss='categorical_crossentropy', metrics=['accuracy'])\n",
        "\n",
        "# Train the model\n",
        "model.fit(train, epochs=5, validation_data=validation)"
      ]
    },
    {
      "cell_type": "code",
      "execution_count": null,
      "metadata": {
        "id": "9qU-Gx7Nsf2c"
      },
      "outputs": [],
      "source": []
    }
  ],
  "metadata": {
    "accelerator": "GPU",
    "colab": {
      "gpuType": "T4",
      "provenance": []
    },
    "kernelspec": {
      "display_name": "Python 3",
      "name": "python3"
    },
    "language_info": {
      "name": "python"
    }
  },
  "nbformat": 4,
  "nbformat_minor": 0
}